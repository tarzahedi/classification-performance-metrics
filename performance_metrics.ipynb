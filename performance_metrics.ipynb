{
 "cells": [
  {
   "cell_type": "markdown",
   "id": "d40b0d95-0c92-4484-9106-972ccd13b31e",
   "metadata": {},
   "source": [
    "# 🧠 Understanding Classification Performance Metrics\n",
    "\n",
    "## Why Accuracy Isn’t Always the Full Story?\n",
    "\n",
    "Accuracy is the simplest way to check if a model is doing well.  \n",
    "It’s just the percentage of predictions that are correct.\n",
    "\n",
    "Example:  \n",
    "If your model gets **95 out of 100 predictions right**, you’d say it’s 95% accurate.\n",
    "\n",
    "Sounds great, right?  \n",
    "But here’s the trap: if your dataset is **imbalanced** (one class is much more common than the other), accuracy can fool you.\n",
    "\n",
    "💡 Example:  \n",
    "If only 1% of transactions are fraudulent, a model that predicts *“not fraud”* for everything will be **99% accurate** — but will **never** catch fraud.\n",
    "\n",
    "That’s why we need other metrics that tell us *how* the model is making its predictions.\n"
   ]
  },
  {
   "cell_type": "code",
   "execution_count": 1,
   "id": "6d85c959-e602-4b8d-88f9-014d449dc9f0",
   "metadata": {
    "execution": {
     "iopub.execute_input": "2025-08-11T13:24:35.342540Z",
     "iopub.status.busy": "2025-08-11T13:24:35.341518Z",
     "iopub.status.idle": "2025-08-11T13:24:40.349574Z",
     "shell.execute_reply": "2025-08-11T13:24:40.347273Z",
     "shell.execute_reply.started": "2025-08-11T13:24:35.342459Z"
    }
   },
   "outputs": [
    {
     "name": "stdout",
     "output_type": "stream",
     "text": [
      "Accuracy: 0.95\n"
     ]
    }
   ],
   "source": [
    "import pandas as pd\n",
    "import numpy as np\n",
    "from sklearn.datasets import load_breast_cancer\n",
    "from sklearn.model_selection import train_test_split\n",
    "from sklearn.linear_model import LogisticRegression\n",
    "from sklearn.metrics import accuracy_score, confusion_matrix\n",
    "\n",
    "# Load dataset\n",
    "data = load_breast_cancer()\n",
    "X = data.data\n",
    "y = data.target\n",
    "\n",
    "# Train/test split\n",
    "X_train, X_test, y_train, y_test = train_test_split(\n",
    "    X, y, test_size=0.3, random_state=42, stratify=y\n",
    ")\n",
    "\n",
    "# Train model\n",
    "model = LogisticRegression(max_iter=2500)\n",
    "model.fit(X_train, y_train)\n",
    "\n",
    "# Predictions\n",
    "y_pred = model.predict(X_test)\n",
    "\n",
    "# Accuracy\n",
    "print(f\"Accuracy: {accuracy_score(y_test, y_pred):.2f}\")\n"
   ]
  },
  {
   "cell_type": "markdown",
   "id": "f639ba90-f2d9-4a68-b75c-fd8f8a46d201",
   "metadata": {},
   "source": [
    "## Confusion Matrix: Seeing Exactly Where We’re Right and Wrong\n",
    "\n",
    "A **confusion matrix** is like a scoreboard for our model.  \n",
    "It counts:\n",
    "- **True Positives (TP)** – correctly predicted *positive* cases\n",
    "- **True Negatives (TN)** – correctly predicted *negative* cases\n",
    "- **False Positives (FP)** – predicted positive, but actually negative\n",
    "- **False Negatives (FN)** – predicted negative, but actually positive\n",
    "\n",
    "It’s called “confusion” because it shows where the model is mixing things up.\n"
   ]
  },
  {
   "cell_type": "code",
   "execution_count": 2,
   "id": "d390214f-9d1e-4ea0-bfc3-976121f32d9b",
   "metadata": {
    "execution": {
     "iopub.execute_input": "2025-08-11T13:24:40.357838Z",
     "iopub.status.busy": "2025-08-11T13:24:40.353688Z",
     "iopub.status.idle": "2025-08-11T13:24:40.452800Z",
     "shell.execute_reply": "2025-08-11T13:24:40.451057Z",
     "shell.execute_reply.started": "2025-08-11T13:24:40.357737Z"
    }
   },
   "outputs": [
    {
     "data": {
      "text/html": [
       "<div>\n",
       "<style scoped>\n",
       "    .dataframe tbody tr th:only-of-type {\n",
       "        vertical-align: middle;\n",
       "    }\n",
       "\n",
       "    .dataframe tbody tr th {\n",
       "        vertical-align: top;\n",
       "    }\n",
       "\n",
       "    .dataframe thead th {\n",
       "        text-align: right;\n",
       "    }\n",
       "</style>\n",
       "<table border=\"1\" class=\"dataframe\">\n",
       "  <thead>\n",
       "    <tr style=\"text-align: right;\">\n",
       "      <th></th>\n",
       "      <th>Predicted: Benign (0)</th>\n",
       "      <th>Predicted: Malignant (1)</th>\n",
       "    </tr>\n",
       "  </thead>\n",
       "  <tbody>\n",
       "    <tr>\n",
       "      <th>Actual: Benign (0)</th>\n",
       "      <td>57</td>\n",
       "      <td>7</td>\n",
       "    </tr>\n",
       "    <tr>\n",
       "      <th>Actual: Malignant (1)</th>\n",
       "      <td>2</td>\n",
       "      <td>105</td>\n",
       "    </tr>\n",
       "  </tbody>\n",
       "</table>\n",
       "</div>"
      ],
      "text/plain": [
       "                       Predicted: Benign (0)  Predicted: Malignant (1)\n",
       "Actual: Benign (0)                        57                         7\n",
       "Actual: Malignant (1)                      2                       105"
      ]
     },
     "execution_count": 2,
     "metadata": {},
     "output_type": "execute_result"
    }
   ],
   "source": [
    "cm = confusion_matrix(y_test, y_pred)\n",
    "pd.DataFrame(\n",
    "    cm,\n",
    "    index=['Actual: Benign (0)', 'Actual: Malignant (1)'],\n",
    "    columns=['Predicted: Benign (0)', 'Predicted: Malignant (1)']\n",
    ")\n"
   ]
  },
  {
   "cell_type": "markdown",
   "id": "054b1d4d-ed19-4cf0-810a-764c357b1c79",
   "metadata": {},
   "source": [
    "## Precision: \"When I Predict Positive, How Often Am I Right?\"\n",
    "\n",
    "**What it means:**  \n",
    "Of all the times the model said *“positive”*, how many were actually positive?  \n",
    "\n",
    "**High precision** = fewer false positives.\n",
    "\n",
    "✅ Use when:\n",
    "- **False positives are costly**  \n",
    "- Example: If you’re testing a drug for safety, you want to be *very sure* before declaring it unsafe, because calling a safe drug unsafe (false positive) could waste millions.\n",
    "\n",
    "❌ Not the best when:\n",
    "- Missing positives (false negatives) is worse than a few false alarms.\n"
   ]
  },
  {
   "cell_type": "markdown",
   "id": "afb70629-995a-41c9-9991-bcb84d647a32",
   "metadata": {},
   "source": [
    "## Recall: \"How Many of the Actual Positives Did I Catch?\"\n",
    "\n",
    "**What it means:**  \n",
    "Of all the actual positive cases, how many did the model find?  \n",
    "\n",
    "**High recall** = fewer false negatives.\n",
    "\n",
    "✅ Use when:\n",
    "- **False negatives are costly**  \n",
    "- Example: In cancer screening, you’d rather flag too many people (even with some false alarms) than miss someone who is sick.\n",
    "\n",
    "❌ Not the best when:\n",
    "- You can’t afford too many false positives.\n"
   ]
  },
  {
   "cell_type": "markdown",
   "id": "49e4bbd3-44d2-4349-981b-cb59ed878d22",
   "metadata": {},
   "source": [
    "## F1 Score: \"A Balance Between Precision and Recall\"\n",
    "\n",
    "**What it means:**  \n",
    "The F1 score is a single number that balances precision and recall.  \n",
    "\n",
    "✅ Use when:\n",
    "- You need **both** false positives and false negatives to be reasonably low.\n",
    "- Your classes are imbalanced and you need a single comparison number.\n",
    "\n",
    "❌ Not great when:\n",
    "- You only care about one side (precision *or* recall) — it hides that detail.\n"
   ]
  },
  {
   "cell_type": "markdown",
   "id": "17ee2588-b74f-452a-8f0e-a5a118b7bf5d",
   "metadata": {},
   "source": [
    "---\n",
    "## 6. ROC-AUC — \"How Well Can My Model Separate the Classes?\"\n",
    "\n",
    "**What it means:**  \n",
    "ROC-AUC looks at how well the model can tell the difference between positives and negatives *across all possible thresholds*.\n",
    "\n",
    "✅ Use when:\n",
    "- You want to compare models **without committing to a single threshold**.\n",
    "- You want a general measure of model separability.\n",
    "\n",
    "❌ Not enough by itself when:\n",
    "- Business costs for false positives/negatives are very different —  \n",
    "  you still need precision or recall for those decisions.\n"
   ]
  },
  {
   "cell_type": "code",
   "execution_count": 3,
   "id": "655d8c02-2a07-4ce8-bf27-04b090171e7e",
   "metadata": {
    "execution": {
     "iopub.execute_input": "2025-08-11T13:24:40.455767Z",
     "iopub.status.busy": "2025-08-11T13:24:40.454849Z",
     "iopub.status.idle": "2025-08-11T13:24:40.507676Z",
     "shell.execute_reply": "2025-08-11T13:24:40.504341Z",
     "shell.execute_reply.started": "2025-08-11T13:24:40.455684Z"
    }
   },
   "outputs": [
    {
     "name": "stdout",
     "output_type": "stream",
     "text": [
      "Precision: 0.94\n",
      "Recall: 0.98\n",
      "F1 Score: 0.96\n",
      "ROC-AUC: 0.99\n"
     ]
    }
   ],
   "source": [
    "from sklearn.metrics import precision_score, recall_score, f1_score, roc_auc_score\n",
    "\n",
    "precision = precision_score(y_test, y_pred)\n",
    "recall = recall_score(y_test, y_pred)\n",
    "f1 = f1_score(y_test, y_pred)\n",
    "roc_auc = roc_auc_score(y_test, model.predict_proba(X_test)[:, 1])\n",
    "\n",
    "print(f\"Precision: {precision:.2f}\")\n",
    "print(f\"Recall: {recall:.2f}\")\n",
    "print(f\"F1 Score: {f1:.2f}\")\n",
    "print(f\"ROC-AUC: {roc_auc:.2f}\")\n"
   ]
  },
  {
   "cell_type": "markdown",
   "id": "732496a0-796e-4837-a76f-a06b43ced3bc",
   "metadata": {},
   "source": [
    "## Choosing the Right Metric\n",
    "\n",
    "| Metric     | Best When... | Focuses On |\n",
    "|------------|--------------|------------|\n",
    "| **Accuracy**   | Classes are balanced & all mistakes cost the same | Overall correctness |\n",
    "| **Precision**  | False positives are expensive | Avoiding false alarms |\n",
    "| **Recall**     | False negatives are expensive | Catching as many positives as possible |\n",
    "| **F1 Score**   | Need a balance between precision & recall | Overall balance |\n",
    "| **ROC-AUC**    | Want a threshold-free comparison | General separability |\n"
   ]
  },
  {
   "cell_type": "code",
   "execution_count": 4,
   "id": "4482cdec-8dca-455b-a290-87e631d3d8cb",
   "metadata": {
    "execution": {
     "iopub.execute_input": "2025-08-11T13:24:40.516132Z",
     "iopub.status.busy": "2025-08-11T13:24:40.513678Z",
     "iopub.status.idle": "2025-08-11T13:24:42.013388Z",
     "shell.execute_reply": "2025-08-11T13:24:42.011761Z",
     "shell.execute_reply.started": "2025-08-11T13:24:40.516006Z"
    }
   },
   "outputs": [
    {
     "data": {
      "image/png": "[encoded data removed]",
      "text/plain": [
       "<Figure size 600x400 with 1 Axes>"
      ]
     },
     "metadata": {},
     "output_type": "display_data"
    }
   ],
   "source": [
    "from sklearn.metrics import precision_recall_curve\n",
    "import matplotlib.pyplot as plt\n",
    "\n",
    "y_scores = model.predict_proba(X_test)[:, 1]\n",
    "precisions, recalls, thresholds = precision_recall_curve(y_test, y_scores)\n",
    "\n",
    "plt.figure(figsize=(6,4))\n",
    "plt.plot(thresholds, precisions[:-1], \"b--\", label=\"Precision\")\n",
    "plt.plot(thresholds, recalls[:-1], \"g-\", label=\"Recall\")\n",
    "plt.xlabel(\"Decision Threshold\")\n",
    "plt.ylabel(\"Score\")\n",
    "plt.legend()\n",
    "plt.title(\"Precision–Recall Trade-Off\")\n",
    "plt.show()\n"
   ]
  },
  {
   "cell_type": "markdown",
   "id": "8486aff1-facf-43b0-be9b-c251044162cc",
   "metadata": {
    "execution": {
     "iopub.execute_input": "2025-08-08T11:05:38.349424Z",
     "iopub.status.busy": "2025-08-08T11:05:38.347054Z",
     "iopub.status.idle": "2025-08-08T11:05:38.369497Z",
     "shell.execute_reply": "2025-08-08T11:05:38.365527Z",
     "shell.execute_reply.started": "2025-08-08T11:05:38.349283Z"
    }
   },
   "source": [
    "## Key Takeaways\n",
    "\n",
    "- Accuracy can hide poor performance, especially in imbalanced datasets.\n",
    "- **Precision** → important when false positives are costly.  \n",
    "- **Recall** → important when false negatives are costly.  \n",
    "- **F1 Score** → good for balancing both.  \n",
    "- **ROC-AUC** → great for comparing models without fixing a threshold.\n",
    "- Always choose your metric based on the *real-world cost* of mistakes.\n"
   ]
  },
  {
   "cell_type": "markdown",
   "id": "c02dd356-f07d-4a89-9dd5-68c930f0321d",
   "metadata": {},
   "source": [
    "## Tuning the Decision Threshold to Meet Business Needs\n",
    "\n",
    "Most classifiers (like Logistic Regression) give us a **probability score** for each prediction —  \n",
    "we then choose a **threshold** (default is 0.5) to decide if it’s positive or negative.\n",
    "\n",
    "By moving this threshold up or down, we can **control precision and recall**:\n",
    "\n",
    "- Lower threshold → More positives predicted → **Higher recall**, lower precision  \n",
    "- Higher threshold → Fewer positives predicted → **Higher precision**, lower recall  \n",
    "\n",
    "💡 Real-world example:  \n",
    "- If our goal is to **catch at least 95% of actual positives** (high recall), we might lower the threshold.  \n",
    "- If our goal is to **minimize false alarms** (high precision), we might raise the threshold.\n"
   ]
  },
  {
   "cell_type": "code",
   "execution_count": 5,
   "id": "fec2f1b6-d038-48b5-bf3d-b966814395d3",
   "metadata": {
    "execution": {
     "iopub.execute_input": "2025-08-11T13:24:42.015829Z",
     "iopub.status.busy": "2025-08-11T13:24:42.015002Z",
     "iopub.status.idle": "2025-08-11T13:24:42.037229Z",
     "shell.execute_reply": "2025-08-11T13:24:42.034059Z",
     "shell.execute_reply.started": "2025-08-11T13:24:42.015766Z"
    }
   },
   "outputs": [
    {
     "name": "stdout",
     "output_type": "stream",
     "text": [
      "Chosen threshold for recall >= 0.95: 0.00\n",
      "Precision at this threshold: 0.63\n",
      "Recall at this threshold: 1.00\n"
     ]
    }
   ],
   "source": [
    "# Business goal: Recall >= 0.95\n",
    "target_recall = 0.95\n",
    "\n",
    "# Get precision, recall, and thresholds\n",
    "precisions, recalls, thresholds = precision_recall_curve(y_test, y_scores)\n",
    "\n",
    "# Find the smallest threshold where recall meets or exceeds target\n",
    "threshold_index = np.argmax(recalls >= target_recall)\n",
    "best_threshold = thresholds[threshold_index]\n",
    "\n",
    "print(f\"Chosen threshold for recall >= {target_recall}: {best_threshold:.2f}\")\n",
    "print(f\"Precision at this threshold: {precisions[threshold_index]:.2f}\")\n",
    "print(f\"Recall at this threshold: {recalls[threshold_index]:.2f}\")\n"
   ]
  },
  {
   "cell_type": "markdown",
   "id": "fdfc1092-da83-47db-8460-16acf884b280",
   "metadata": {},
   "source": [
    "## Visualizing the Threshold Choice\n",
    "\n",
    "Here’s what our **Precision–Recall curve** looks like,  \n",
    "with the chosen threshold marked on it.\n"
   ]
  },
  {
   "cell_type": "code",
   "execution_count": 6,
   "id": "49836c2c-3148-44dd-9157-34729492ad8e",
   "metadata": {
    "execution": {
     "iopub.execute_input": "2025-08-11T13:24:42.045802Z",
     "iopub.status.busy": "2025-08-11T13:24:42.042365Z",
     "iopub.status.idle": "2025-08-11T13:24:42.535678Z",
     "shell.execute_reply": "2025-08-11T13:24:42.534040Z",
     "shell.execute_reply.started": "2025-08-11T13:24:42.045653Z"
    }
   },
   "outputs": [
    {
     "data": {
      "image/png": "[encoded data removed]",
      "text/plain": [
       "<Figure size 600x400 with 1 Axes>"
      ]
     },
     "metadata": {},
     "output_type": "display_data"
    }
   ],
   "source": [
    "plt.figure(figsize=(6,4))\n",
    "plt.plot(recalls[:-1], precisions[:-1], label=\"Precision–Recall Curve\")\n",
    "plt.scatter(\n",
    "    recalls[threshold_index], \n",
    "    precisions[threshold_index], \n",
    "    color=\"red\", \n",
    "    label=f\"Chosen threshold ({best_threshold:.2f})\"\n",
    ")\n",
    "plt.xlabel(\"Recall\")\n",
    "plt.ylabel(\"Precision\")\n",
    "plt.title(\"Precision–Recall Curve with Selected Threshold\")\n",
    "plt.legend()\n",
    "plt.show()\n"
   ]
  },
  {
   "cell_type": "markdown",
   "id": "68329a4f-6cca-438d-8696-26b81b79c1ca",
   "metadata": {
    "execution": {
     "iopub.execute_input": "2025-08-08T11:07:20.636472Z",
     "iopub.status.busy": "2025-08-08T11:07:20.635531Z",
     "iopub.status.idle": "2025-08-08T11:07:20.651818Z",
     "shell.execute_reply": "2025-08-08T11:07:20.648593Z",
     "shell.execute_reply.started": "2025-08-08T11:07:20.636404Z"
    }
   },
   "source": [
    "## Why This Matters\n",
    "\n",
    "By adjusting the threshold:\n",
    "- We **don’t have to retrain the model** — just change the decision point.\n",
    "- We can **adapt the model to business priorities**:\n",
    "    - Hospitals → prioritize recall to catch all patients who might be sick.\n",
    "    - Email spam filters → prioritize precision to avoid putting important emails in spam.\n",
    "\n",
    "This is where machine learning stops being “just code” and starts becoming a **business tool**.\n"
   ]
  }
 ],
 "metadata": {
  "kernelspec": {
   "display_name": "Python 3 (ipykernel)",
   "language": "python",
   "name": "python3"
  },
  "language_info": {
   "codemirror_mode": {
    "name": "ipython",
    "version": 3
   },
   "file_extension": ".py",
   "mimetype": "text/x-python",
   "name": "python",
   "nbconvert_exporter": "python",
   "pygments_lexer": "ipython3",
   "version": "3.12.9"
  }
 },
 "nbformat": 4,
 "nbformat_minor": 5
}
